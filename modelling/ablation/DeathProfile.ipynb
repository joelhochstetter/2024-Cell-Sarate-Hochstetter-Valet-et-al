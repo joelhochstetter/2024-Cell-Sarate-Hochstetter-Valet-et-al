{
 "cells": [
  {
   "cell_type": "markdown",
   "metadata": {},
   "source": [
    "# Death profile used for fitting"
   ]
  },
  {
   "cell_type": "code",
   "execution_count": 1,
   "metadata": {},
   "outputs": [],
   "source": [
    "import numpy as np\n",
    "import matplotlib.pyplot as plt\n",
    "from scipy.spatial import Voronoi, voronoi_plot_2d\n",
    "from numba import jit\n",
    "import sys\n",
    "import pickle\n",
    "\n",
    "sys.path.append(\"../../simulator/\")\n",
    "sys.path.append(\"../../fitting/\")\n",
    "\n",
    "from tissue import *\n",
    "import tiss_optimize as topt\n",
    "import sim_model\n",
    "\n",
    "%matplotlib inline\n",
    "\n",
    "def addPBC(points, L, rinc = None): #rinc is inclusion radius for PBCs\n",
    "    if rinc == None:\n",
    "        rinc = L\n",
    "    vx = L*np.array((1,0), dtype = np.float64)\n",
    "    vy = L*np.array((0,1), dtype = np.float64)\n",
    "    left  = points[:,0] < rinc\n",
    "    right = points[:,0] > L - rinc\n",
    "    up    = points[:,1] > L - rinc\n",
    "    down  = points[:,1] < rinc\n",
    "    points = np.vstack([points, \n",
    "                        points[left ].copy() + vx, \n",
    "                        points[right].copy() - vx, \n",
    "                        points[up   ].copy() - vy, \n",
    "                        points[down ].copy() + vy, \n",
    "                        points[left  & down].copy() + vx + vy, \n",
    "                        points[right & up  ].copy() - vx - vy, \n",
    "                        points[left  & up  ].copy() + vx - vy, \n",
    "                        points[right & down].copy() - vx + vy])\n",
    "    return points\n",
    "\n",
    "\n",
    "def load_object(filename):\n",
    "    with open(filename, 'rb') as outp:  # Overwrites any existing file.\n",
    "        return pickle.load(outp)\n",
    "    \n",
    "from matplotlib import rcParams\n",
    "\n",
    "# Set global font properties\n",
    "rcParams['font.family'] = 'sans-serif'\n",
    "\n",
    "# Set global font size for all axes\n",
    "rcParams['axes.labelsize'] = 10\n",
    "rcParams['axes.labelweight'] = 'bold'\n",
    "rcParams['xtick.labelsize'] = 7.5\n",
    "rcParams['ytick.labelsize'] = 7.5\n",
    "rcParams['legend.fontsize'] = 7.5\n",
    "rcParams['font.size'] = 7.5  # General font size\n",
    "rcParams['text.usetex'] = False\n",
    "rcParams['svg.fonttype'] = 'none'\n",
    "rcParams['lines.markersize']  = 4\n",
    "rcParams['lines.linewidth']  = 1.5"
   ]
  },
  {
   "cell_type": "code",
   "execution_count": 2,
   "metadata": {},
   "outputs": [],
   "source": [
    "exp_data = load_object('../../experiment/ablation.pkl')\n",
    "\n",
    "av_edu_pc = exp_data['expDivrate']/exp_data['ctrDivrate']\n",
    "se_edu_pc = exp_data['expSEDivrate']/exp_data['ctrDivrate']\n",
    "ct_edu_pc = 1.0\n",
    "\n",
    "av_bas = exp_data['expDensity']\n",
    "sd_bas = exp_data['expSEDensity']\n",
    "\n",
    "av_bas_exp = exp_data['expBasalsize']\n",
    "se_bas_exp = exp_data['expSEBasalsize']\n",
    "\n",
    "av_tot_exp = exp_data['expTotalsize']\n",
    "se_tot_exp = exp_data['expSETotalsize']\n",
    "\n",
    "tdr = exp_data['expTimeDivrate']\n",
    "tds = exp_data['expTimeDensity']\n",
    "te  = exp_data['expTimeClonesize']"
   ]
  },
  {
   "cell_type": "code",
   "execution_count": 3,
   "metadata": {},
   "outputs": [
    {
     "data": {
      "image/png": "[encoded data removed]",
      "text/plain": [
       "<Figure size 200x220 with 1 Axes>"
      ]
     },
     "metadata": {},
     "output_type": "display_data"
    }
   ],
   "source": [
    "#Death profile:\n",
    "\n",
    "#Numbers obtained by non-linear least square fits to data\n",
    "b1 = 3.2553e-2\n",
    "b2 = 8.7969e-1\n",
    "bx = 0.5240\n",
    "\n",
    "def death(t, b1, b2, bx, tscale = 1, tshift = 0, tmin = - 3):\n",
    "    t = t/tscale + tshift\n",
    "    if type(t) == int or type(t) == float:\n",
    "        t = np.array([t])\n",
    "    y = np.zeros(len(np.array(t)))\n",
    "    y[t >= 0] = np.exp(-bx*t[t >= 0])\n",
    "    y[t  < 0] = np.exp(b1*(t[t < 0] - tmin))*(1 - np.exp(-b2*(t[t < 0] - tmin)))/np.exp(-tmin*b1)/(1 - np.exp(tmin*b2))\n",
    "    y[t < tmin] = 0.0\n",
    "    return y\n",
    "\n",
    "x = np.linspace(-5.5, 20, 22*101)\n",
    "\n",
    "plt.figure(figsize=(2.0,2.2))\n",
    "plt.errorbar(exp_data['timeCas3'], exp_data['expCas3'], exp_data['expSECas3']*1.96, fmt = 'ko', label = 'Data')\n",
    "plt.plot(x, death(x - 1, b1, b2, bx)*np.max(exp_data['expCas3']), 'k-', label = 'Fit')\n",
    "plt.ylabel('Apoptosis rate') \n",
    "plt.xlabel('Time (days)')\n",
    "plt.legend(frameon=False)\n",
    "plt.xlim([-5,20])\n",
    "plt.ylim([0,60])\n",
    "plt.savefig('deathprofile.pdf', dpi = 300, bbox_inches='tight')\n",
    "plt.show()"
   ]
  }
 ],
 "metadata": {
  "kernelspec": {
   "display_name": ".venv",
   "language": "python",
   "name": "python3"
  },
  "language_info": {
   "codemirror_mode": {
    "name": "ipython",
    "version": 3
   },
   "file_extension": ".py",
   "mimetype": "text/x-python",
   "name": "python",
   "nbconvert_exporter": "python",
   "pygments_lexer": "ipython3",
   "version": "3.11.9"
  }
 },
 "nbformat": 4,
 "nbformat_minor": 2
}
